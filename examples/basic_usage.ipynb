{
 "cells": [
  {
   "cell_type": "code",
   "execution_count": null,
   "metadata": {
    "collapsed": false
   },
   "outputs": [],
   "source": [
    "from boolprob import JointDistr, Probability, CondProbability"
   ]
  },
  {
   "cell_type": "code",
   "execution_count": null,
   "metadata": {
    "collapsed": false
   },
   "outputs": [],
   "source": [
    "# define a joint distribution of 4 boolean random variables\n",
    "joint_distr = JointDistr(4)\n",
    "\n",
    "# the 4 random variables are the defaults of 4 companies\n",
    "A_default, B_default, C_default, D_default = \\\n",
    "  joint_distr.get_variables()\n",
    "\n",
    "# define assumptions, you can use logic operators &, |, ~\n",
    "assumptions = [Probability(A_default) == .1,\n",
    "               Probability(B_default) == .1,\n",
    "               Probability(C_default) == .1,\n",
    "               Probability(D_default) == .1,\n",
    "               Probability(A_default | B_default) == .15,\n",
    "               CondProbability(C_default, B_default & D_default) == .5]\n",
    "\n",
    "# find the maximum entropy distribution\n",
    "joint_distr.maximum_entropy(assumptions)"
   ]
  },
  {
   "cell_type": "code",
   "execution_count": null,
   "metadata": {
    "collapsed": false
   },
   "outputs": [],
   "source": [
    "print \"Under the maximum entropy distribution,\",\n",
    "print \"the probability that at least one company defaults is %.3f.\" % \\\n",
    "  Probability(A_default | B_default | C_default | D_default).value"
   ]
  }
 ],
 "metadata": {
  "kernelspec": {
   "display_name": "Python 2",
   "language": "python",
   "name": "python2"
  },
  "language_info": {
   "codemirror_mode": {
    "name": "ipython",
    "version": 2
   },
   "file_extension": ".py",
   "mimetype": "text/x-python",
   "name": "python",
   "nbconvert_exporter": "python",
   "pygments_lexer": "ipython2",
   "version": "2.7.10"
  }
 },
 "nbformat": 4,
 "nbformat_minor": 0
}
